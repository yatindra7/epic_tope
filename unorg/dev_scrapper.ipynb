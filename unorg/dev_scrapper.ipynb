{
  "cells": [
    {
      "cell_type": "code",
      "execution_count": 107,
      "metadata": {
        "id": "3wqsT1lyhAMh"
      },
      "outputs": [],
      "source": [
        "import time\n",
        "from selenium import webdriver\n",
        "from selenium.common.exceptions import NoSuchElementException, TimeoutException, ElementClickInterceptedException\n",
        "from selenium.webdriver.chrome.options import Options\n",
        "from selenium.webdriver.common.by import By\n",
        "from selenium.webdriver.support import expected_conditions as EC\n",
        "from selenium.webdriver.support.wait import WebDriverWait\n",
        "from webdriver_manager.chrome import ChromeDriverManager\n",
        "\n",
        "from bs4 import BeautifulSoup\n",
        "import re\n",
        "import pandas as pd"
      ]
    },
    {
      "cell_type": "code",
      "execution_count": 108,
      "metadata": {
        "id": "sw9dQjQVhAMk",
        "outputId": "e4e9bab4-528a-41d2-a79a-aef1d88efa8a"
      },
      "outputs": [
        {
          "data": {
            "text/html": [
              "<div>\n",
              "<style scoped>\n",
              "    .dataframe tbody tr th:only-of-type {\n",
              "        vertical-align: middle;\n",
              "    }\n",
              "\n",
              "    .dataframe tbody tr th {\n",
              "        vertical-align: top;\n",
              "    }\n",
              "\n",
              "    .dataframe thead th {\n",
              "        text-align: right;\n",
              "    }\n",
              "</style>\n",
              "<table border=\"1\" class=\"dataframe\">\n",
              "  <thead>\n",
              "    <tr style=\"text-align: right;\">\n",
              "      <th></th>\n",
              "      <th>mw</th>\n",
              "    </tr>\n",
              "  </thead>\n",
              "  <tbody>\n",
              "    <tr>\n",
              "      <th>0</th>\n",
              "      <td>GLYCENE</td>\n",
              "    </tr>\n",
              "    <tr>\n",
              "      <th>1</th>\n",
              "      <td>KPC1_DROME</td>\n",
              "    </tr>\n",
              "  </tbody>\n",
              "</table>\n",
              "</div>"
            ],
            "text/plain": [
              "           mw\n",
              "0     GLYCENE\n",
              "1  KPC1_DROME"
            ]
          },
          "execution_count": 108,
          "metadata": {},
          "output_type": "execute_result"
        }
      ],
      "source": [
        "df = pd.read_csv(\"./Data.csv\")\n",
        "df.head()"
      ]
    },
    {
      "cell_type": "code",
      "execution_count": 109,
      "metadata": {
        "id": "hBlz2j6QhAMl"
      },
      "outputs": [],
      "source": [
        "def extract_data(paragraph, i):\n",
        "    global df\n",
        "    # Extract the desired information using regular expressions\n",
        "    aa_count = int(re.search(r\"Number of amino acids: (\\d+)\", paragraph).group(1))\n",
        "    \n",
        "    mw = float(re.search(r\"Molecular weight: ([\\d.]+)\", paragraph).group(1))\n",
        "    pi = float(re.search(r\"Theoretical pI: ([\\d.]+)\", paragraph).group(1))\n",
        "\n",
        "    # Print the extracted information\n",
        "    print(f\"Number of amino acids: {aa_count}\")\n",
        "    print(f\"Molecular weight: {mw}\")\n",
        "    print(f\"Theoretical pI: {pi}\")\n",
        "\n",
        "    # colheads = ['mw', 'aa_count', 'pi']\n",
        "    # coldata = [mw, aa_count, pi]\n",
        "\n",
        "    # # Extract the amino acid composition using regular expressions\n",
        "    # aa_composition = {}\n",
        "    # aa_pattern = r\"([A-Z][a-z]{2}) \\(([A-Z])\\) +(\\d+) +([\\d.]+)%\"\n",
        "    # aa_matches = re.findall(aa_pattern, paragraph)\n",
        "    # for aa in aa_matches:\n",
        "    #     aa_code = aa[1]\n",
        "    #     aa_count = int(aa[2])\n",
        "    #     aa_percentage = float(aa[3])\n",
        "    #     aa_composition[aa_code] = {\"percentage\": aa_percentage, \"count\": aa_count}\n",
        "    #     colheads.append(aa_code)\n",
        "    #     coldata.append(aa_percentage)\n",
        "\n",
        "\n",
        "    # # Print the amino acid composition\n",
        "    # print(\"Amino acid composition:\")\n",
        "    # for aa in aa_composition:\n",
        "    #     print(f\"{aa}: percentage = {aa_composition[aa]['percentage']}%\")\n",
        "\n",
        "    \n",
        "\n",
        "    # neg_charge = int(aa_composition['D']['count']) + int(aa_composition['E']['count'])\n",
        "    # pos_charge = int(aa_composition['R']['count']) + int(aa_composition['K']['count'])\n",
        "\n",
        "    \n",
        "    \n",
        "\n",
        "    # coldata.append(neg_charge)\n",
        "    # coldata.append(pos_charge)\n",
        "\n",
        "    # colheads.append('total_neg_res')\n",
        "    # # coldata.append(total_neg_charged_res)\n",
        "    # colheads.append('total_pos_res')\n",
        "    # # coldata.append(total_pos_charged_res)\n",
        "\n",
        "\n",
        "    # # Print the total number of negatively charged and positively charged residues\n",
        "    # print(f\"Total number of negatively charged residues (Asp + Glu): {neg_charge}\")\n",
        "    # print(f\"Total number of positively charged residues (Arg + Lys): {pos_charge}\")\n",
        "\n",
        "    # # Extract the important data using regular expressions\n",
        "    # atom_composition = {}\n",
        "    # atom_pattern = r\"([A-Z][a-z]*) +([A-Z]+) +(\\d+)\"\n",
        "    # atom_matches = re.findall(atom_pattern, paragraph)\n",
        "    # for atom in atom_matches:\n",
        "    #     atom_name = atom[0]\n",
        "    #     atom_symbol = atom[1]\n",
        "    #     atom_count = int(atom[2])\n",
        "    #     atom_composition[atom_name] = {\"symbol\": atom_symbol, \"count\": atom_count}\n",
        "    #     colheads.append(atom_name+' count')\n",
        "    #     coldata.append(atom_count)\n",
        "\n",
        "    # # Print the atomic composition\n",
        "    # print(f\"Atomic composition:\")\n",
        "    # for atom in atom_composition:\n",
        "    #     print(f\"{atom_composition[atom]['symbol']} {atom_composition[atom]['count']}\")\n",
        "\n",
        "    # # Extract the important data using regular expressions\n",
        "    # total_atoms_pattern = r\"Total number of atoms: (\\d+)\"\n",
        "    # total_atoms_matches = re.findall(total_atoms_pattern, paragraph)\n",
        "    # total_atoms = int(total_atoms_matches[0])\n",
        "\n",
        "    # colheads.append('total_atoms')\n",
        "    # coldata.append(total_atoms)\n",
        "\n",
        "    # # Print the total number of atoms\n",
        "    # print(f\"Total number of atoms: {total_atoms}\")\n",
        "\n",
        "    # pattern = r\"Ext\\.? coeff(?:icient)?\\s+(\\d+\\.\\d+)\\s+\"\n",
        "\n",
        "    # # Search for matches in the text\n",
        "    # ext_coeff_matches = re.findall(pattern, paragraph)\n",
        "\n",
        "    # colheads.append('ext_coeff')\n",
        "    \n",
        "    # if ext_coeff_matches:\n",
        "    #     print(\"Extinction coefficients found:\")\n",
        "    #     for match in ext_coeff_matches:\n",
        "    #         print(match)\n",
        "    #         coldata.append(match)\n",
        "    # else:\n",
        "    #     coldata.append('NIL')\n",
        "    #     print(\"No extinction coefficients found.\")\n",
        "\n",
        "    # mammalian_reticulocytes_pattern = r\"(\\d+(?:\\.\\d+)?) hours \\(mammalian reticulocytes, in vitro\\)\"\n",
        "    # mammalian_reticulocytes_match = re.search(mammalian_reticulocytes_pattern, paragraph)\n",
        "\n",
        "    # colheads.append('half_life')\n",
        "    # if mammalian_reticulocytes_match:\n",
        "    #     mammalian_reticulocytes_half_life = float(mammalian_reticulocytes_match.group(1))\n",
        "    #     print(\"The half-life in mammalian reticulocytes is:\", mammalian_reticulocytes_half_life, \"hours.\")\n",
        "    #     coldata.append(mammalian_reticulocytes_half_life)\n",
        "    # else:\n",
        "    #     coldata.append('NIL')\n",
        "    #     print(\"No half-life information found for mammalian reticulocytes.\")\n",
        "\n",
        "    # instability_regex = r\"instability index \\(II\\) is computed to be ([\\d\\.]+)\"\n",
        "    # aliphatic_regex = r\"Aliphatic index: ([\\d\\.]+)\"\n",
        "    # gravy_regex = r\"Grand average of hydropathicity \\(GRAVY\\): ([\\d\\.-]+)\"\n",
        "\n",
        "    # # Extract values using regular expressions\n",
        "    # instability_match = re.search(instability_regex, paragraph)\n",
        "    # aliphatic_match = re.search(aliphatic_regex, paragraph)\n",
        "    # gravy_match = re.search(gravy_regex, paragraph)\n",
        "    \n",
        "    # colheads.append('instability_index')\n",
        "    # # Print results\n",
        "    # if instability_match:\n",
        "    #     instability_index = float(instability_match.group(1))\n",
        "    #     coldata.append(instability_index)\n",
        "    #     print(f\"Instability index: {instability_index}\")\n",
        "    # else:\n",
        "    #     coldata.append('NIL')\n",
        "    #     print(\"No instability index found.\")\n",
        "\n",
        "    # colheads.append('aliphatic_index')\n",
        "    # if aliphatic_match:\n",
        "    #     aliphatic_index = float(aliphatic_match.group(1))\n",
        "    #     print(f\"Aliphatic index: {aliphatic_index}\")\n",
        "    #     coldata.append(aliphatic_index)\n",
        "    # else:\n",
        "    #     coldata.append('NIL')\n",
        "    #     print(\"No Aliphatic index found.\")\n",
        "    \n",
        "    # colheads.append('GRAVY')\n",
        "    # if gravy_match:\n",
        "    #     gravy_match = float(gravy_match.group(1))\n",
        "    #     coldata.append(gravy_match)\n",
        "    #     print(f\"Gravy Match: {gravy_match}\")\n",
        "    # else:\n",
        "    #     coldata.append('NIL')\n",
        "    #     print(\"No Gravy Match found.\")\n",
        "\n",
        "    \n",
        "    \n",
        "    \n",
        "    # df.loc[i, colheads] = coldata"
      ]
    },
    {
      "cell_type": "code",
      "execution_count": 110,
      "metadata": {
        "id": "0X657PHahAMm"
      },
      "outputs": [],
      "source": [
        "url = \"https://web.expasy.org/protparam/\""
      ]
    },
    {
      "cell_type": "code",
      "execution_count": 111,
      "metadata": {
        "id": "GEJATDSehAMn",
        "outputId": "c23afb06-6c6b-4642-9d3b-3db2918f72ab"
      },
      "outputs": [
        {
          "name": "stderr",
          "output_type": "stream",
          "text": [
            "/var/folders/y6/329pyz816215n3byp9d8jn580000gn/T/ipykernel_6928/3283136752.py:5: DeprecationWarning: executable_path has been deprecated, please pass in a Service object\n",
            "  driver = webdriver.Chrome(ChromeDriverManager().install())\n"
          ]
        },
        {
          "name": "stdout",
          "output_type": "stream",
          "text": [
            "GLYCENE :\n",
            "Number of amino acids: 7\n",
            "Molecular weight: 826.88\n",
            "Theoretical pI: 3.79\n",
            "KPC1_DROME :\n",
            "Number of amino acids: 8\n",
            "Molecular weight: 1115.33\n",
            "Theoretical pI: 6.06\n"
          ]
        }
      ],
      "source": [
        "\n",
        "# df1=df[['Epitope']]\n",
        "\n",
        "for i,value in enumerate(df.values):\n",
        "    sequence = value[0]\n",
        "    driver = webdriver.Chrome(ChromeDriverManager().install())\n",
        "    wait = WebDriverWait(driver, 10)\n",
        "    driver.get('https://web.expasy.org/protparam/')\n",
        "\n",
        "    seq_field = wait.until(EC.presence_of_element_located((By.XPATH, '//*[@id=\"sib_body\"]/form/textarea')))\n",
        "\n",
        "    seq_field.send_keys(sequence)\n",
        "\n",
        "\n",
        "    submit_btn = wait.until(EC.presence_of_element_located((By.XPATH, '//*[@id=\"sib_body\"]/form/p[1]/input[2]')))\n",
        "    submit_btn.click()\n",
        "\n",
        "    data_div = wait.until(EC.presence_of_element_located((By.XPATH, '//*[@id=\"sib_body\"]/pre[2]')))\n",
        "    time.sleep(5)\n",
        "\n",
        "    print(sequence,\":\")\n",
        "    extract_data(data_div.text , i)    \n",
        "    driver.close()"
      ]
    },
    {
      "cell_type": "code",
      "execution_count": 112,
      "metadata": {
        "id": "8V1IHOa4hAMn"
      },
      "outputs": [],
      "source": [
        "df.to_csv('./test1.csv')"
      ]
    },
    {
      "cell_type": "code",
      "execution_count": null,
      "metadata": {
        "id": "Z1Jx6857hAMn"
      },
      "outputs": [],
      "source": []
    },
    {
      "cell_type": "code",
      "execution_count": null,
      "metadata": {
        "id": "ayE75i31hAMo"
      },
      "outputs": [],
      "source": []
    },
    {
      "cell_type": "code",
      "execution_count": null,
      "metadata": {
        "id": "uKcVdMxfhAMo"
      },
      "outputs": [],
      "source": []
    }
  ],
  "metadata": {
    "colab": {
      "provenance": []
    },
    "kernelspec": {
      "display_name": "Python 3.9.16 ('base')",
      "language": "python",
      "name": "python3"
    },
    "language_info": {
      "codemirror_mode": {
        "name": "ipython",
        "version": 3
      },
      "file_extension": ".py",
      "mimetype": "text/x-python",
      "name": "python",
      "nbconvert_exporter": "python",
      "pygments_lexer": "ipython3",
      "version": "3.9.16"
    },
    "orig_nbformat": 4,
    "vscode": {
      "interpreter": {
        "hash": "98087a3b5cfceee0fda9a712983794cb22a698638ca045e3f151134ef97e2d36"
      }
    }
  },
  "nbformat": 4,
  "nbformat_minor": 0
}
